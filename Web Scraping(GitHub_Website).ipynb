{
 "cells": [
  {
   "cell_type": "markdown",
   "id": "8613f277",
   "metadata": {},
   "source": [
    "# Top Repositories for GitHub Topics"
   ]
  },
  {
   "cell_type": "markdown",
   "id": "44485b36",
   "metadata": {},
   "source": [
    "## Pick a website and describe your objective"
   ]
  },
  {
   "cell_type": "markdown",
   "id": "5384e528",
   "metadata": {},
   "source": [
    "- Browse through different sites and pick one to scrape. Check the \"Project Ideas\" for section for inspiration\n",
    "- Identify the information you did like to scrape from the site. Beside the format of the output CSV file.\n",
    "- Summarise your project idea and outline your strategy in a jupyter notebook. Use the \"New\" button above"
   ]
  },
  {
   "cell_type": "markdown",
   "id": "24eb3ffa",
   "metadata": {},
   "source": [
    "#### Project Outline\n",
    "\n",
    "- We're going to scrape https://github.com/topics\n",
    "- We'll get a list of topics. For each topic, we'll get topic title, topic page URL and topic description\n",
    "- For each topic, we'll get the top 25 repositories in the topic from the topic page\n",
    "- For each repository, we'll grab the repo name, username, stars and repo URL\n",
    "- For each topic, we'll create a CSV file in the following format :\n",
    "\n",
    "'''\n",
    "Repo Name, Username, Stars, Repo URL\n",
    "three.js, mrdoob, 69700, https://github.com/mrdoob/three.js\n",
    "'''\n"
   ]
  },
  {
   "cell_type": "markdown",
   "id": "3710dbea",
   "metadata": {},
   "source": [
    "## Use the requests library to download webpages"
   ]
  },
  {
   "cell_type": "code",
   "execution_count": 1,
   "id": "960f2569",
   "metadata": {},
   "outputs": [
    {
     "name": "stderr",
     "output_type": "stream",
     "text": [
      "WARNING: Ignoring invalid distribution -atplotlib (c:\\users\\91798\\anaconda3\\lib\\site-packages)\n",
      "WARNING: Ignoring invalid distribution -atplotlib (c:\\users\\91798\\anaconda3\\lib\\site-packages)\n",
      "WARNING: Ignoring invalid distribution -atplotlib (c:\\users\\91798\\anaconda3\\lib\\site-packages)\n",
      "WARNING: Ignoring invalid distribution -atplotlib (c:\\users\\91798\\anaconda3\\lib\\site-packages)\n",
      "WARNING: Ignoring invalid distribution -atplotlib (c:\\users\\91798\\anaconda3\\lib\\site-packages)\n",
      "WARNING: Ignoring invalid distribution -atplotlib (c:\\users\\91798\\anaconda3\\lib\\site-packages)\n"
     ]
    }
   ],
   "source": [
    "!pip install requests --upgrade --quiet\n",
    "\n",
    "#we use quiet when we don't want to see the output"
   ]
  },
  {
   "cell_type": "code",
   "execution_count": 2,
   "id": "c559b951",
   "metadata": {},
   "outputs": [],
   "source": [
    "import requests"
   ]
  },
  {
   "cell_type": "code",
   "execution_count": 3,
   "id": "72d29ebf",
   "metadata": {},
   "outputs": [],
   "source": [
    "topics_url = 'https://github.com/topics'"
   ]
  },
  {
   "cell_type": "code",
   "execution_count": 4,
   "id": "9c9aa98d",
   "metadata": {},
   "outputs": [],
   "source": [
    "response = requests.get(topics_url)"
   ]
  },
  {
   "cell_type": "code",
   "execution_count": 5,
   "id": "2522ec62",
   "metadata": {},
   "outputs": [
    {
     "data": {
      "text/plain": [
       "200"
      ]
     },
     "execution_count": 5,
     "metadata": {},
     "output_type": "execute_result"
    }
   ],
   "source": [
    "response.status_code\n",
    "\n",
    "#Informational responses (100 – 199)\n",
    "#Successful responses (200 – 299)\n",
    "#Redirection messages (300 – 399)\n",
    "#Client error responses (400 – 499)\n",
    "#Server error responses (500 – 599)"
   ]
  },
  {
   "cell_type": "code",
   "execution_count": 6,
   "id": "1513ef23",
   "metadata": {},
   "outputs": [],
   "source": [
    "page_content = response.text"
   ]
  },
  {
   "cell_type": "code",
   "execution_count": 7,
   "id": "0b6fca1d",
   "metadata": {},
   "outputs": [
    {
     "data": {
      "text/plain": [
       "'\\n\\n<!DOCTYPE html>\\n<html lang=\"en\" data-color-mode=\"auto\" data-light-theme=\"light\" data-dark-theme=\"dark\" data-a11y-animated-images=\"system\">\\n  <head>\\n    <meta charset=\"utf-8\">\\n  <link rel=\"dns-prefetch\" href=\"https://github.githubassets.com\">\\n  <link rel=\"dns-prefetch\" href=\"https://avatars.githubusercontent.com\">\\n  <link rel=\"dns-prefetch\" href=\"https://github-cloud.s3.amazonaws.com\">\\n  <link rel=\"dns-prefetch\" href=\"https://user-images.githubusercontent.com/\">\\n  <link rel=\"preconnect\" href=\"https://github.githubassets.com\" crossorigin>\\n  <link rel=\"preconnect\" href=\"https://avatars.githubusercontent.com\">\\n\\n  <link crossorigin=\"anonymous\" media=\"all\" rel=\"stylesheet\" href=\"https://github.githubassets.com/assets/light-fe3f886b577a.css\" /><link crossorigin=\"anonymous\" media=\"all\" rel=\"stylesheet\" href=\"https://github.githubassets.com/assets/dark-a1dbeda2886c.css\" /><link data-color-theme=\"dark_dimmed\" crossorigin=\"anonymous\" media=\"all\" rel=\"stylesheet\" data-href=\"https://github.github'"
      ]
     },
     "execution_count": 7,
     "metadata": {},
     "output_type": "execute_result"
    }
   ],
   "source": [
    "page_content[:1000]"
   ]
  },
  {
   "cell_type": "code",
   "execution_count": 8,
   "id": "bcb7f534",
   "metadata": {},
   "outputs": [],
   "source": [
    "#Saving html page as local copy on our server\n",
    "import io\n",
    "\n",
    "with io.open('webpage.html', 'w', encoding = \"utf-8\") as f:\n",
    "    f.write(page_content)"
   ]
  },
  {
   "cell_type": "markdown",
   "id": "f5dbe92d",
   "metadata": {},
   "source": [
    "## Use Beautiful Soup to parse and extract information"
   ]
  },
  {
   "cell_type": "code",
   "execution_count": 9,
   "id": "5122cd71",
   "metadata": {},
   "outputs": [
    {
     "name": "stderr",
     "output_type": "stream",
     "text": [
      "WARNING: Ignoring invalid distribution -atplotlib (c:\\users\\91798\\anaconda3\\lib\\site-packages)\n",
      "WARNING: Ignoring invalid distribution -atplotlib (c:\\users\\91798\\anaconda3\\lib\\site-packages)\n",
      "WARNING: Ignoring invalid distribution -atplotlib (c:\\users\\91798\\anaconda3\\lib\\site-packages)\n",
      "    WARNING: Ignoring invalid distribution -atplotlib (c:\\users\\91798\\anaconda3\\lib\\site-packages)\n",
      "WARNING: Ignoring invalid distribution -atplotlib (c:\\users\\91798\\anaconda3\\lib\\site-packages)\n",
      "ERROR: pip's dependency resolver does not currently take into account all the packages that are installed. This behaviour is the source of the following dependency conflicts.\n",
      "jupyter-server 1.13.5 requires pywinpty<2; os_name == \"nt\", but you have pywinpty 2.0.2 which is incompatible.\n",
      "WARNING: Ignoring invalid distribution -atplotlib (c:\\users\\91798\\anaconda3\\lib\\site-packages)\n",
      "WARNING: Ignoring invalid distribution -atplotlib (c:\\users\\91798\\anaconda3\\lib\\site-packages)\n",
      "WARNING: Ignoring invalid distribution -atplotlib (c:\\users\\91798\\anaconda3\\lib\\site-packages)\n"
     ]
    }
   ],
   "source": [
    "!pip install beautifulsoup4 --upgrade --quiet"
   ]
  },
  {
   "cell_type": "code",
   "execution_count": 10,
   "id": "f73b958b",
   "metadata": {},
   "outputs": [],
   "source": [
    "from bs4 import BeautifulSoup"
   ]
  },
  {
   "cell_type": "code",
   "execution_count": 11,
   "id": "7b2a2db8",
   "metadata": {},
   "outputs": [],
   "source": [
    "doc = BeautifulSoup(page_content, 'html.parser')"
   ]
  },
  {
   "cell_type": "code",
   "execution_count": 12,
   "id": "2db79a76",
   "metadata": {},
   "outputs": [],
   "source": [
    "#selecting topics name present on the github page\n",
    "selection_class = 'f3 lh-condensed mb-0 mt-1 Link--primary'\n",
    "\n",
    "topic_title_tags = doc.find_all('p', {'class' : selection_class})"
   ]
  },
  {
   "cell_type": "code",
   "execution_count": 13,
   "id": "80e567e6",
   "metadata": {},
   "outputs": [
    {
     "data": {
      "text/plain": [
       "30"
      ]
     },
     "execution_count": 13,
     "metadata": {},
     "output_type": "execute_result"
    }
   ],
   "source": [
    "len(topic_title_tags)"
   ]
  },
  {
   "cell_type": "code",
   "execution_count": 14,
   "id": "9f8e6673",
   "metadata": {},
   "outputs": [
    {
     "data": {
      "text/plain": [
       "[<p class=\"f3 lh-condensed mb-0 mt-1 Link--primary\">3D</p>,\n",
       " <p class=\"f3 lh-condensed mb-0 mt-1 Link--primary\">Ajax</p>,\n",
       " <p class=\"f3 lh-condensed mb-0 mt-1 Link--primary\">Algorithm</p>,\n",
       " <p class=\"f3 lh-condensed mb-0 mt-1 Link--primary\">Amp</p>,\n",
       " <p class=\"f3 lh-condensed mb-0 mt-1 Link--primary\">Android</p>,\n",
       " <p class=\"f3 lh-condensed mb-0 mt-1 Link--primary\">Angular</p>,\n",
       " <p class=\"f3 lh-condensed mb-0 mt-1 Link--primary\">Ansible</p>,\n",
       " <p class=\"f3 lh-condensed mb-0 mt-1 Link--primary\">API</p>,\n",
       " <p class=\"f3 lh-condensed mb-0 mt-1 Link--primary\">Arduino</p>,\n",
       " <p class=\"f3 lh-condensed mb-0 mt-1 Link--primary\">ASP.NET</p>]"
      ]
     },
     "execution_count": 14,
     "metadata": {},
     "output_type": "execute_result"
    }
   ],
   "source": [
    "topic_title_tags[:10]"
   ]
  },
  {
   "cell_type": "code",
   "execution_count": 15,
   "id": "d0debb07",
   "metadata": {},
   "outputs": [],
   "source": [
    "# Selecting the description of the topics on the webpages\n",
    "desc_selector = 'f5 color-fg-muted mb-0 mt-1'\n",
    "topic_desc_tags = doc.find_all('p', {'class' : desc_selector})"
   ]
  },
  {
   "cell_type": "code",
   "execution_count": 16,
   "id": "810458ff",
   "metadata": {},
   "outputs": [
    {
     "data": {
      "text/plain": [
       "30"
      ]
     },
     "execution_count": 16,
     "metadata": {},
     "output_type": "execute_result"
    }
   ],
   "source": [
    "len(topic_desc_tags)"
   ]
  },
  {
   "cell_type": "code",
   "execution_count": 17,
   "id": "15a21dbf",
   "metadata": {
    "scrolled": true
   },
   "outputs": [
    {
     "data": {
      "text/plain": [
       "[<p class=\"f5 color-fg-muted mb-0 mt-1\">\n",
       "           3D refers to the use of three-dimensional graphics, modeling, and animation in various industries.\n",
       "         </p>,\n",
       " <p class=\"f5 color-fg-muted mb-0 mt-1\">\n",
       "           Ajax is a technique for creating interactive web applications.\n",
       "         </p>,\n",
       " <p class=\"f5 color-fg-muted mb-0 mt-1\">\n",
       "           Algorithms are self-contained sequences that carry out a variety of tasks.\n",
       "         </p>,\n",
       " <p class=\"f5 color-fg-muted mb-0 mt-1\">\n",
       "           Amp is a non-blocking concurrency library for PHP.\n",
       "         </p>,\n",
       " <p class=\"f5 color-fg-muted mb-0 mt-1\">\n",
       "           Android is an operating system built by Google designed for mobile devices.\n",
       "         </p>]"
      ]
     },
     "execution_count": 17,
     "metadata": {},
     "output_type": "execute_result"
    }
   ],
   "source": [
    "topic_desc_tags[:5]"
   ]
  },
  {
   "cell_type": "code",
   "execution_count": 18,
   "id": "15134739",
   "metadata": {},
   "outputs": [],
   "source": [
    "# getting the URLS of the topics for the 'a' tag\n",
    "topic_title_tag0 = topic_title_tags[0]"
   ]
  },
  {
   "cell_type": "code",
   "execution_count": 19,
   "id": "f93bc494",
   "metadata": {},
   "outputs": [],
   "source": [
    "div_tag = topic_title_tag0.parent"
   ]
  },
  {
   "cell_type": "code",
   "execution_count": 20,
   "id": "3813f300",
   "metadata": {},
   "outputs": [],
   "source": [
    "link_selector = 'no-underline flex-1 d-flex flex-column'\n",
    "topic_link_tags = doc.find_all('a', {'class' : link_selector})"
   ]
  },
  {
   "cell_type": "code",
   "execution_count": 21,
   "id": "c94fac34",
   "metadata": {},
   "outputs": [
    {
     "data": {
      "text/plain": [
       "30"
      ]
     },
     "execution_count": 21,
     "metadata": {},
     "output_type": "execute_result"
    }
   ],
   "source": [
    "len(topic_link_tags)"
   ]
  },
  {
   "cell_type": "code",
   "execution_count": 22,
   "id": "56b74f12",
   "metadata": {},
   "outputs": [
    {
     "data": {
      "text/plain": [
       "<a class=\"no-underline flex-1 d-flex flex-column\" href=\"/topics/3d\">\n",
       "<p class=\"f3 lh-condensed mb-0 mt-1 Link--primary\">3D</p>\n",
       "<p class=\"f5 color-fg-muted mb-0 mt-1\">\n",
       "          3D refers to the use of three-dimensional graphics, modeling, and animation in various industries.\n",
       "        </p>\n",
       "</a>"
      ]
     },
     "execution_count": 22,
     "metadata": {},
     "output_type": "execute_result"
    }
   ],
   "source": [
    "topic_link_tags[0]"
   ]
  },
  {
   "cell_type": "code",
   "execution_count": 23,
   "id": "c1c3218c",
   "metadata": {},
   "outputs": [
    {
     "name": "stdout",
     "output_type": "stream",
     "text": [
      "https://github.com/topics/3d\n"
     ]
    }
   ],
   "source": [
    "topic0_url = \"https://github.com\" + topic_link_tags[0]['href']\n",
    "print(topic0_url)"
   ]
  },
  {
   "cell_type": "code",
   "execution_count": 24,
   "id": "f9310741",
   "metadata": {},
   "outputs": [
    {
     "name": "stdout",
     "output_type": "stream",
     "text": [
      "['3D', 'Ajax', 'Algorithm', 'Amp', 'Android', 'Angular', 'Ansible', 'API', 'Arduino', 'ASP.NET', 'Atom', 'Awesome Lists', 'Amazon Web Services', 'Azure', 'Babel', 'Bash', 'Bitcoin', 'Bootstrap', 'Bot', 'C', 'Chrome', 'Chrome extension', 'Command line interface', 'Clojure', 'Code quality', 'Code review', 'Compiler', 'Continuous integration', 'COVID-19', 'C++']\n"
     ]
    }
   ],
   "source": [
    "topic_titles = []\n",
    "\n",
    "for tag in topic_title_tags:\n",
    "    topic_titles.append(tag.text)\n",
    "    \n",
    "print(topic_titles)    "
   ]
  },
  {
   "cell_type": "code",
   "execution_count": 25,
   "id": "734ada91",
   "metadata": {},
   "outputs": [
    {
     "data": {
      "text/plain": [
       "['3D refers to the use of three-dimensional graphics, modeling, and animation in various industries.',\n",
       " 'Ajax is a technique for creating interactive web applications.',\n",
       " 'Algorithms are self-contained sequences that carry out a variety of tasks.',\n",
       " 'Amp is a non-blocking concurrency library for PHP.',\n",
       " 'Android is an operating system built by Google designed for mobile devices.']"
      ]
     },
     "execution_count": 25,
     "metadata": {},
     "output_type": "execute_result"
    }
   ],
   "source": [
    "topic_descs = []\n",
    "\n",
    "for tag in topic_desc_tags:\n",
    "    topic_descs.append(tag.text.strip())                 #strip is used to remove extra space\n",
    "    \n",
    "topic_descs[:5]"
   ]
  },
  {
   "cell_type": "code",
   "execution_count": 26,
   "id": "b4768688",
   "metadata": {},
   "outputs": [
    {
     "data": {
      "text/plain": [
       "['https://github.com/topics/3d',\n",
       " 'https://github.com/topics/ajax',\n",
       " 'https://github.com/topics/algorithm',\n",
       " 'https://github.com/topics/amphp',\n",
       " 'https://github.com/topics/android']"
      ]
     },
     "execution_count": 26,
     "metadata": {},
     "output_type": "execute_result"
    }
   ],
   "source": [
    "topic_urls = []\n",
    "base_url = 'https://github.com'\n",
    "\n",
    "for tag in topic_link_tags:\n",
    "    topic_urls.append(base_url + tag['href'])\n",
    "    \n",
    "topic_urls[:5]"
   ]
  },
  {
   "cell_type": "code",
   "execution_count": 27,
   "id": "19a0ecaf",
   "metadata": {},
   "outputs": [],
   "source": [
    "import pandas as pd"
   ]
  },
  {
   "cell_type": "code",
   "execution_count": 28,
   "id": "8975f7cd",
   "metadata": {},
   "outputs": [],
   "source": [
    "topic_dict = {\n",
    "    'title': topic_titles,\n",
    "    'description': topic_descs,\n",
    "    'url': topic_urls\n",
    "}"
   ]
  },
  {
   "cell_type": "code",
   "execution_count": 29,
   "id": "961c10c1",
   "metadata": {},
   "outputs": [],
   "source": [
    "topic_df = pd.DataFrame(topic_dict)"
   ]
  },
  {
   "cell_type": "code",
   "execution_count": 30,
   "id": "33d6905d",
   "metadata": {},
   "outputs": [
    {
     "data": {
      "text/html": [
       "<div>\n",
       "<style scoped>\n",
       "    .dataframe tbody tr th:only-of-type {\n",
       "        vertical-align: middle;\n",
       "    }\n",
       "\n",
       "    .dataframe tbody tr th {\n",
       "        vertical-align: top;\n",
       "    }\n",
       "\n",
       "    .dataframe thead th {\n",
       "        text-align: right;\n",
       "    }\n",
       "</style>\n",
       "<table border=\"1\" class=\"dataframe\">\n",
       "  <thead>\n",
       "    <tr style=\"text-align: right;\">\n",
       "      <th></th>\n",
       "      <th>title</th>\n",
       "      <th>description</th>\n",
       "      <th>url</th>\n",
       "    </tr>\n",
       "  </thead>\n",
       "  <tbody>\n",
       "    <tr>\n",
       "      <th>0</th>\n",
       "      <td>3D</td>\n",
       "      <td>3D refers to the use of three-dimensional grap...</td>\n",
       "      <td>https://github.com/topics/3d</td>\n",
       "    </tr>\n",
       "    <tr>\n",
       "      <th>1</th>\n",
       "      <td>Ajax</td>\n",
       "      <td>Ajax is a technique for creating interactive w...</td>\n",
       "      <td>https://github.com/topics/ajax</td>\n",
       "    </tr>\n",
       "    <tr>\n",
       "      <th>2</th>\n",
       "      <td>Algorithm</td>\n",
       "      <td>Algorithms are self-contained sequences that c...</td>\n",
       "      <td>https://github.com/topics/algorithm</td>\n",
       "    </tr>\n",
       "    <tr>\n",
       "      <th>3</th>\n",
       "      <td>Amp</td>\n",
       "      <td>Amp is a non-blocking concurrency library for ...</td>\n",
       "      <td>https://github.com/topics/amphp</td>\n",
       "    </tr>\n",
       "    <tr>\n",
       "      <th>4</th>\n",
       "      <td>Android</td>\n",
       "      <td>Android is an operating system built by Google...</td>\n",
       "      <td>https://github.com/topics/android</td>\n",
       "    </tr>\n",
       "    <tr>\n",
       "      <th>5</th>\n",
       "      <td>Angular</td>\n",
       "      <td>Angular is an open source web application plat...</td>\n",
       "      <td>https://github.com/topics/angular</td>\n",
       "    </tr>\n",
       "    <tr>\n",
       "      <th>6</th>\n",
       "      <td>Ansible</td>\n",
       "      <td>Ansible is a simple and powerful automation en...</td>\n",
       "      <td>https://github.com/topics/ansible</td>\n",
       "    </tr>\n",
       "    <tr>\n",
       "      <th>7</th>\n",
       "      <td>API</td>\n",
       "      <td>An API (Application Programming Interface) is ...</td>\n",
       "      <td>https://github.com/topics/api</td>\n",
       "    </tr>\n",
       "    <tr>\n",
       "      <th>8</th>\n",
       "      <td>Arduino</td>\n",
       "      <td>Arduino is an open source platform for buildin...</td>\n",
       "      <td>https://github.com/topics/arduino</td>\n",
       "    </tr>\n",
       "    <tr>\n",
       "      <th>9</th>\n",
       "      <td>ASP.NET</td>\n",
       "      <td>ASP.NET is a web framework for building modern...</td>\n",
       "      <td>https://github.com/topics/aspnet</td>\n",
       "    </tr>\n",
       "  </tbody>\n",
       "</table>\n",
       "</div>"
      ],
      "text/plain": [
       "       title                                        description  \\\n",
       "0         3D  3D refers to the use of three-dimensional grap...   \n",
       "1       Ajax  Ajax is a technique for creating interactive w...   \n",
       "2  Algorithm  Algorithms are self-contained sequences that c...   \n",
       "3        Amp  Amp is a non-blocking concurrency library for ...   \n",
       "4    Android  Android is an operating system built by Google...   \n",
       "5    Angular  Angular is an open source web application plat...   \n",
       "6    Ansible  Ansible is a simple and powerful automation en...   \n",
       "7        API  An API (Application Programming Interface) is ...   \n",
       "8    Arduino  Arduino is an open source platform for buildin...   \n",
       "9    ASP.NET  ASP.NET is a web framework for building modern...   \n",
       "\n",
       "                                   url  \n",
       "0         https://github.com/topics/3d  \n",
       "1       https://github.com/topics/ajax  \n",
       "2  https://github.com/topics/algorithm  \n",
       "3      https://github.com/topics/amphp  \n",
       "4    https://github.com/topics/android  \n",
       "5    https://github.com/topics/angular  \n",
       "6    https://github.com/topics/ansible  \n",
       "7        https://github.com/topics/api  \n",
       "8    https://github.com/topics/arduino  \n",
       "9     https://github.com/topics/aspnet  "
      ]
     },
     "execution_count": 30,
     "metadata": {},
     "output_type": "execute_result"
    }
   ],
   "source": [
    "topic_df[:10]"
   ]
  },
  {
   "cell_type": "markdown",
   "id": "bb16b368",
   "metadata": {},
   "source": [
    "# Create CSV file(s) with the extracted information "
   ]
  },
  {
   "cell_type": "code",
   "execution_count": 31,
   "id": "62775f2b",
   "metadata": {},
   "outputs": [],
   "source": [
    "topic_df.to_csv('topics.csv', index = None)"
   ]
  },
  {
   "cell_type": "markdown",
   "id": "e8b197c0",
   "metadata": {},
   "source": [
    "## Getting information out of a topic page"
   ]
  },
  {
   "cell_type": "code",
   "execution_count": 32,
   "id": "7967b6eb",
   "metadata": {},
   "outputs": [],
   "source": [
    "topic_page_url = topic_urls[0]"
   ]
  },
  {
   "cell_type": "code",
   "execution_count": 33,
   "id": "d95c1530",
   "metadata": {},
   "outputs": [
    {
     "data": {
      "text/plain": [
       "'https://github.com/topics/3d'"
      ]
     },
     "execution_count": 33,
     "metadata": {},
     "output_type": "execute_result"
    }
   ],
   "source": [
    "topic_page_url"
   ]
  },
  {
   "cell_type": "code",
   "execution_count": 34,
   "id": "7d352403",
   "metadata": {},
   "outputs": [],
   "source": [
    "response = requests.get(topic_page_url)"
   ]
  },
  {
   "cell_type": "code",
   "execution_count": 35,
   "id": "99e56652",
   "metadata": {},
   "outputs": [
    {
     "data": {
      "text/plain": [
       "200"
      ]
     },
     "execution_count": 35,
     "metadata": {},
     "output_type": "execute_result"
    }
   ],
   "source": [
    "response.status_code"
   ]
  },
  {
   "cell_type": "code",
   "execution_count": 36,
   "id": "31022ae6",
   "metadata": {},
   "outputs": [
    {
     "data": {
      "text/plain": [
       "460131"
      ]
     },
     "execution_count": 36,
     "metadata": {},
     "output_type": "execute_result"
    }
   ],
   "source": [
    "len(response.text)"
   ]
  },
  {
   "cell_type": "code",
   "execution_count": 37,
   "id": "446a1de0",
   "metadata": {},
   "outputs": [],
   "source": [
    "topic_doc = BeautifulSoup(response.text, 'html.parser')"
   ]
  },
  {
   "cell_type": "code",
   "execution_count": 38,
   "id": "b22372f2",
   "metadata": {},
   "outputs": [],
   "source": [
    "h1_selection_class = 'f3 color-fg-muted text-normal lh-condensed'\n",
    "repo_tags = topic_doc.find_all('h3', {'class' : h1_selection_class} )"
   ]
  },
  {
   "cell_type": "code",
   "execution_count": 39,
   "id": "82128232",
   "metadata": {},
   "outputs": [
    {
     "data": {
      "text/plain": [
       "20"
      ]
     },
     "execution_count": 39,
     "metadata": {},
     "output_type": "execute_result"
    }
   ],
   "source": [
    "len(repo_tags)"
   ]
  },
  {
   "cell_type": "code",
   "execution_count": 40,
   "id": "0ce79cc0",
   "metadata": {},
   "outputs": [
    {
     "data": {
      "text/plain": [
       "<h3 class=\"f3 color-fg-muted text-normal lh-condensed\">\n",
       "<a data-hydro-click='{\"event_type\":\"explore.click\",\"payload\":{\"click_context\":\"REPOSITORY_CARD\",\"click_target\":\"OWNER\",\"click_visual_representation\":\"REPOSITORY_OWNER_HEADING\",\"actor_id\":null,\"record_id\":97088,\"originating_url\":\"https://github.com/topics/3d\",\"user_id\":null}}' data-hydro-click-hmac=\"4bdbc49d3c05ae7f70b531fbce709a384200b0768554e0172950286a8db30940\" data-turbo=\"false\" data-view-component=\"true\" href=\"/mrdoob\">\n",
       "            mrdoob\n",
       "</a>          /\n",
       "          <a class=\"text-bold wb-break-word\" data-hydro-click='{\"event_type\":\"explore.click\",\"payload\":{\"click_context\":\"REPOSITORY_CARD\",\"click_target\":\"REPOSITORY\",\"click_visual_representation\":\"REPOSITORY_NAME_HEADING\",\"actor_id\":null,\"record_id\":576201,\"originating_url\":\"https://github.com/topics/3d\",\"user_id\":null}}' data-hydro-click-hmac=\"517d3d5cb9d89752156923904a4238816bc9b51ab7772f3e3644ce897d8dd4e5\" data-turbo=\"false\" data-view-component=\"true\" href=\"/mrdoob/three.js\">\n",
       "            three.js\n",
       "</a> </h3>"
      ]
     },
     "execution_count": 40,
     "metadata": {},
     "output_type": "execute_result"
    }
   ],
   "source": [
    "repo_tags[0]"
   ]
  },
  {
   "cell_type": "code",
   "execution_count": 41,
   "id": "728fe9d8",
   "metadata": {},
   "outputs": [],
   "source": [
    "# getting the username of the person and the repository\n",
    "\n",
    "a_tags = repo_tags[0].find_all('a')"
   ]
  },
  {
   "cell_type": "code",
   "execution_count": 42,
   "id": "c91c41ff",
   "metadata": {},
   "outputs": [
    {
     "data": {
      "text/plain": [
       "'mrdoob'"
      ]
     },
     "execution_count": 42,
     "metadata": {},
     "output_type": "execute_result"
    }
   ],
   "source": [
    "#username\n",
    "\n",
    "a_tags[0].text.strip()"
   ]
  },
  {
   "cell_type": "code",
   "execution_count": 43,
   "id": "e028e06f",
   "metadata": {},
   "outputs": [
    {
     "data": {
      "text/plain": [
       "'three.js'"
      ]
     },
     "execution_count": 43,
     "metadata": {},
     "output_type": "execute_result"
    }
   ],
   "source": [
    "#Repositories of the user\n",
    "\n",
    "a_tags[1].text.strip()"
   ]
  },
  {
   "cell_type": "code",
   "execution_count": 44,
   "id": "c09281f5",
   "metadata": {},
   "outputs": [
    {
     "name": "stdout",
     "output_type": "stream",
     "text": [
      "https://github.com/mrdoob/three.js\n"
     ]
    }
   ],
   "source": [
    "base_url = 'https://github.com'\n",
    "repo_url = base_url + a_tags[1]['href']\n",
    "print(repo_url)"
   ]
  },
  {
   "cell_type": "code",
   "execution_count": 45,
   "id": "b0fb1278",
   "metadata": {},
   "outputs": [],
   "source": [
    "star_tags = topic_doc.find_all('span', {'id' : 'repo-stars-counter-star'})"
   ]
  },
  {
   "cell_type": "code",
   "execution_count": 46,
   "id": "13b01c5d",
   "metadata": {},
   "outputs": [
    {
     "data": {
      "text/plain": [
       "20"
      ]
     },
     "execution_count": 46,
     "metadata": {},
     "output_type": "execute_result"
    }
   ],
   "source": [
    "len(star_tags)"
   ]
  },
  {
   "cell_type": "code",
   "execution_count": 47,
   "id": "f6ddd0ba",
   "metadata": {},
   "outputs": [
    {
     "data": {
      "text/plain": [
       "'90.1k'"
      ]
     },
     "execution_count": 47,
     "metadata": {},
     "output_type": "execute_result"
    }
   ],
   "source": [
    "#stars\n",
    "star_tags[0].text.strip()"
   ]
  },
  {
   "cell_type": "code",
   "execution_count": 48,
   "id": "43087b50",
   "metadata": {},
   "outputs": [],
   "source": [
    "#Converting 89K into a number \n",
    "\n",
    "def parse_star_count(stars_str):\n",
    "    stars_str = stars_str.strip()\n",
    "    if stars_str[-1] == 'k':\n",
    "        return int(float(stars_str[:-1]) * 1000)\n",
    "    return int(stars_str)"
   ]
  },
  {
   "cell_type": "code",
   "execution_count": 49,
   "id": "fa346a94",
   "metadata": {},
   "outputs": [
    {
     "data": {
      "text/plain": [
       "90100"
      ]
     },
     "execution_count": 49,
     "metadata": {},
     "output_type": "execute_result"
    }
   ],
   "source": [
    "parse_star_count(star_tags[0].text.strip())"
   ]
  },
  {
   "cell_type": "code",
   "execution_count": 50,
   "id": "70007645",
   "metadata": {},
   "outputs": [],
   "source": [
    "import os\n",
    "\n",
    "def get_topic_page(topic_url):\n",
    "    # Download the page\n",
    "    response = requests.get(topic_url)\n",
    "    # Check successful response\n",
    "    if response.status_code != 200:\n",
    "        raise Exception('Failed to load page {}'.format(topic_url))\n",
    "    # Parse using Beautiful Soup\n",
    "    topic_doc = BeautifulSoup(response.text, 'html.parser')\n",
    "    return topic_doc\n",
    "    \n",
    "def get_repo_info(h1_tag, star_tags):\n",
    "    # returns all the required info about a repository\n",
    "    a_tags = h1_tag.find_all('a')\n",
    "    username = a_tags[0].text.strip()\n",
    "    repo_name = a_tags[1].text.strip()\n",
    "    repo_url = base_url + a_tags[1]['href']\n",
    "    stars = parse_star_count(star_tags.text.strip())\n",
    "    return username, repo_name, stars, repo_url\n",
    "\n",
    "def get_topic_repos(topic_doc):\n",
    "    # Get the h1 tags containing repo title, repo URL and username\n",
    "    h1_selection_class = 'f3 color-fg-muted text-normal lh-condensed'\n",
    "    repo_tags = topic_doc.find_all('h3', {'class' : h1_selection_class} )\n",
    "    # Get star tags \n",
    "    star_tags = topic_doc.find_all('span', {'id' : 'repo-stars-counter-star'})\n",
    "\n",
    "    topics_repo_dict = {'username' : [],\n",
    "                'repo_name' : [],\n",
    "                'stars' : [],\n",
    "                'repo_url' : []\n",
    "                }\n",
    "\n",
    "    # Get repo info\n",
    "    for i in range(len(repo_tags)):\n",
    "        repo_info = get_repo_info(repo_tags[i], star_tags[i])\n",
    "        topics_repo_dict['username'].append(repo_info[0])\n",
    "        topics_repo_dict['repo_name'].append(repo_info[1])\n",
    "        topics_repo_dict['stars'].append(repo_info[2])\n",
    "        topics_repo_dict['repo_url'].append(repo_info[3])\n",
    "\n",
    "    return pd.DataFrame(topics_repo_dict)\n",
    "\n",
    "def scrape_topic(topic_url,topic_name):\n",
    "    fname =topic_name + '.csv'\n",
    "    if os.path.exists(fname):\n",
    "        print(\"The file {} already exists . skipping...\".format(fname))\n",
    "        return \n",
    "    topic_df=get_topic_repos(get_topic_page(topic_url))\n",
    "    \n",
    "    topic_df.to_csv(fname,index=None)"
   ]
  },
  {
   "cell_type": "code",
   "execution_count": 51,
   "id": "74688d20",
   "metadata": {},
   "outputs": [
    {
     "data": {
      "text/plain": [
       "('mrdoob', 'three.js', 90100, 'https://github.com/mrdoob/three.js')"
      ]
     },
     "execution_count": 51,
     "metadata": {},
     "output_type": "execute_result"
    }
   ],
   "source": [
    "# Repository info for the first\n",
    "\n",
    "get_repo_info(repo_tags[0], star_tags[0])"
   ]
  },
  {
   "cell_type": "code",
   "execution_count": 52,
   "id": "874afaf2",
   "metadata": {},
   "outputs": [
    {
     "data": {
      "text/plain": [
       "'https://github.com/topics/android'"
      ]
     },
     "execution_count": 52,
     "metadata": {},
     "output_type": "execute_result"
    }
   ],
   "source": [
    "url4 = topic_urls[4]\n",
    "url4"
   ]
  },
  {
   "cell_type": "code",
   "execution_count": 53,
   "id": "d289bde9",
   "metadata": {},
   "outputs": [],
   "source": [
    "topic4_doc = get_topic_page(url4)"
   ]
  },
  {
   "cell_type": "code",
   "execution_count": 54,
   "id": "b7aaa4d2",
   "metadata": {},
   "outputs": [
    {
     "data": {
      "text/html": [
       "<div>\n",
       "<style scoped>\n",
       "    .dataframe tbody tr th:only-of-type {\n",
       "        vertical-align: middle;\n",
       "    }\n",
       "\n",
       "    .dataframe tbody tr th {\n",
       "        vertical-align: top;\n",
       "    }\n",
       "\n",
       "    .dataframe thead th {\n",
       "        text-align: right;\n",
       "    }\n",
       "</style>\n",
       "<table border=\"1\" class=\"dataframe\">\n",
       "  <thead>\n",
       "    <tr style=\"text-align: right;\">\n",
       "      <th></th>\n",
       "      <th>username</th>\n",
       "      <th>repo_name</th>\n",
       "      <th>stars</th>\n",
       "      <th>repo_url</th>\n",
       "    </tr>\n",
       "  </thead>\n",
       "  <tbody>\n",
       "    <tr>\n",
       "      <th>0</th>\n",
       "      <td>flutter</td>\n",
       "      <td>flutter</td>\n",
       "      <td>151000</td>\n",
       "      <td>https://github.com/flutter/flutter</td>\n",
       "    </tr>\n",
       "    <tr>\n",
       "      <th>1</th>\n",
       "      <td>facebook</td>\n",
       "      <td>react-native</td>\n",
       "      <td>108000</td>\n",
       "      <td>https://github.com/facebook/react-native</td>\n",
       "    </tr>\n",
       "    <tr>\n",
       "      <th>2</th>\n",
       "      <td>justjavac</td>\n",
       "      <td>free-programming-books-zh_CN</td>\n",
       "      <td>101000</td>\n",
       "      <td>https://github.com/justjavac/free-programming-...</td>\n",
       "    </tr>\n",
       "    <tr>\n",
       "      <th>3</th>\n",
       "      <td>Genymobile</td>\n",
       "      <td>scrcpy</td>\n",
       "      <td>79700</td>\n",
       "      <td>https://github.com/Genymobile/scrcpy</td>\n",
       "    </tr>\n",
       "    <tr>\n",
       "      <th>4</th>\n",
       "      <td>Hack-with-Github</td>\n",
       "      <td>Awesome-Hacking</td>\n",
       "      <td>62800</td>\n",
       "      <td>https://github.com/Hack-with-Github/Awesome-Ha...</td>\n",
       "    </tr>\n",
       "    <tr>\n",
       "      <th>5</th>\n",
       "      <td>google</td>\n",
       "      <td>material-design-icons</td>\n",
       "      <td>47800</td>\n",
       "      <td>https://github.com/google/material-design-icons</td>\n",
       "    </tr>\n",
       "    <tr>\n",
       "      <th>6</th>\n",
       "      <td>Solido</td>\n",
       "      <td>awesome-flutter</td>\n",
       "      <td>46000</td>\n",
       "      <td>https://github.com/Solido/awesome-flutter</td>\n",
       "    </tr>\n",
       "    <tr>\n",
       "      <th>7</th>\n",
       "      <td>wasabeef</td>\n",
       "      <td>awesome-android-ui</td>\n",
       "      <td>45800</td>\n",
       "      <td>https://github.com/wasabeef/awesome-android-ui</td>\n",
       "    </tr>\n",
       "    <tr>\n",
       "      <th>8</th>\n",
       "      <td>square</td>\n",
       "      <td>okhttp</td>\n",
       "      <td>43700</td>\n",
       "      <td>https://github.com/square/okhttp</td>\n",
       "    </tr>\n",
       "    <tr>\n",
       "      <th>9</th>\n",
       "      <td>android</td>\n",
       "      <td>architecture-samples</td>\n",
       "      <td>42400</td>\n",
       "      <td>https://github.com/android/architecture-samples</td>\n",
       "    </tr>\n",
       "    <tr>\n",
       "      <th>10</th>\n",
       "      <td>square</td>\n",
       "      <td>retrofit</td>\n",
       "      <td>41300</td>\n",
       "      <td>https://github.com/square/retrofit</td>\n",
       "    </tr>\n",
       "    <tr>\n",
       "      <th>11</th>\n",
       "      <td>dcloudio</td>\n",
       "      <td>uni-app</td>\n",
       "      <td>37900</td>\n",
       "      <td>https://github.com/dcloudio/uni-app</td>\n",
       "    </tr>\n",
       "    <tr>\n",
       "      <th>12</th>\n",
       "      <td>fastlane</td>\n",
       "      <td>fastlane</td>\n",
       "      <td>36800</td>\n",
       "      <td>https://github.com/fastlane/fastlane</td>\n",
       "    </tr>\n",
       "    <tr>\n",
       "      <th>13</th>\n",
       "      <td>PhilJay</td>\n",
       "      <td>MPAndroidChart</td>\n",
       "      <td>36300</td>\n",
       "      <td>https://github.com/PhilJay/MPAndroidChart</td>\n",
       "    </tr>\n",
       "    <tr>\n",
       "      <th>14</th>\n",
       "      <td>laurent22</td>\n",
       "      <td>joplin</td>\n",
       "      <td>35000</td>\n",
       "      <td>https://github.com/laurent22/joplin</td>\n",
       "    </tr>\n",
       "    <tr>\n",
       "      <th>15</th>\n",
       "      <td>skylot</td>\n",
       "      <td>jadx</td>\n",
       "      <td>33800</td>\n",
       "      <td>https://github.com/skylot/jadx</td>\n",
       "    </tr>\n",
       "    <tr>\n",
       "      <th>16</th>\n",
       "      <td>airbnb</td>\n",
       "      <td>lottie-android</td>\n",
       "      <td>33700</td>\n",
       "      <td>https://github.com/airbnb/lottie-android</td>\n",
       "    </tr>\n",
       "    <tr>\n",
       "      <th>17</th>\n",
       "      <td>shadowsocks</td>\n",
       "      <td>shadowsocks-android</td>\n",
       "      <td>33500</td>\n",
       "      <td>https://github.com/shadowsocks/shadowsocks-and...</td>\n",
       "    </tr>\n",
       "    <tr>\n",
       "      <th>18</th>\n",
       "      <td>bumptech</td>\n",
       "      <td>glide</td>\n",
       "      <td>33500</td>\n",
       "      <td>https://github.com/bumptech/glide</td>\n",
       "    </tr>\n",
       "    <tr>\n",
       "      <th>19</th>\n",
       "      <td>xitu</td>\n",
       "      <td>gold-miner</td>\n",
       "      <td>32100</td>\n",
       "      <td>https://github.com/xitu/gold-miner</td>\n",
       "    </tr>\n",
       "  </tbody>\n",
       "</table>\n",
       "</div>"
      ],
      "text/plain": [
       "            username                     repo_name   stars  \\\n",
       "0            flutter                       flutter  151000   \n",
       "1           facebook                  react-native  108000   \n",
       "2          justjavac  free-programming-books-zh_CN  101000   \n",
       "3         Genymobile                        scrcpy   79700   \n",
       "4   Hack-with-Github               Awesome-Hacking   62800   \n",
       "5             google         material-design-icons   47800   \n",
       "6             Solido               awesome-flutter   46000   \n",
       "7           wasabeef            awesome-android-ui   45800   \n",
       "8             square                        okhttp   43700   \n",
       "9            android          architecture-samples   42400   \n",
       "10            square                      retrofit   41300   \n",
       "11          dcloudio                       uni-app   37900   \n",
       "12          fastlane                      fastlane   36800   \n",
       "13           PhilJay                MPAndroidChart   36300   \n",
       "14         laurent22                        joplin   35000   \n",
       "15            skylot                          jadx   33800   \n",
       "16            airbnb                lottie-android   33700   \n",
       "17       shadowsocks           shadowsocks-android   33500   \n",
       "18          bumptech                         glide   33500   \n",
       "19              xitu                    gold-miner   32100   \n",
       "\n",
       "                                             repo_url  \n",
       "0                  https://github.com/flutter/flutter  \n",
       "1            https://github.com/facebook/react-native  \n",
       "2   https://github.com/justjavac/free-programming-...  \n",
       "3                https://github.com/Genymobile/scrcpy  \n",
       "4   https://github.com/Hack-with-Github/Awesome-Ha...  \n",
       "5     https://github.com/google/material-design-icons  \n",
       "6           https://github.com/Solido/awesome-flutter  \n",
       "7      https://github.com/wasabeef/awesome-android-ui  \n",
       "8                    https://github.com/square/okhttp  \n",
       "9     https://github.com/android/architecture-samples  \n",
       "10                 https://github.com/square/retrofit  \n",
       "11                https://github.com/dcloudio/uni-app  \n",
       "12               https://github.com/fastlane/fastlane  \n",
       "13          https://github.com/PhilJay/MPAndroidChart  \n",
       "14                https://github.com/laurent22/joplin  \n",
       "15                     https://github.com/skylot/jadx  \n",
       "16           https://github.com/airbnb/lottie-android  \n",
       "17  https://github.com/shadowsocks/shadowsocks-and...  \n",
       "18                  https://github.com/bumptech/glide  \n",
       "19                 https://github.com/xitu/gold-miner  "
      ]
     },
     "execution_count": 54,
     "metadata": {},
     "output_type": "execute_result"
    }
   ],
   "source": [
    "topic4_repos = get_topic_repos(topic4_doc)\n",
    "topic4_repos"
   ]
  },
  {
   "cell_type": "code",
   "execution_count": 55,
   "id": "c1c8eb0d",
   "metadata": {},
   "outputs": [
    {
     "data": {
      "text/html": [
       "<div>\n",
       "<style scoped>\n",
       "    .dataframe tbody tr th:only-of-type {\n",
       "        vertical-align: middle;\n",
       "    }\n",
       "\n",
       "    .dataframe tbody tr th {\n",
       "        vertical-align: top;\n",
       "    }\n",
       "\n",
       "    .dataframe thead th {\n",
       "        text-align: right;\n",
       "    }\n",
       "</style>\n",
       "<table border=\"1\" class=\"dataframe\">\n",
       "  <thead>\n",
       "    <tr style=\"text-align: right;\">\n",
       "      <th></th>\n",
       "      <th>username</th>\n",
       "      <th>repo_name</th>\n",
       "      <th>stars</th>\n",
       "      <th>repo_url</th>\n",
       "    </tr>\n",
       "  </thead>\n",
       "  <tbody>\n",
       "    <tr>\n",
       "      <th>0</th>\n",
       "      <td>flutter</td>\n",
       "      <td>flutter</td>\n",
       "      <td>151000</td>\n",
       "      <td>https://github.com/flutter/flutter</td>\n",
       "    </tr>\n",
       "    <tr>\n",
       "      <th>1</th>\n",
       "      <td>facebook</td>\n",
       "      <td>react-native</td>\n",
       "      <td>108000</td>\n",
       "      <td>https://github.com/facebook/react-native</td>\n",
       "    </tr>\n",
       "    <tr>\n",
       "      <th>2</th>\n",
       "      <td>justjavac</td>\n",
       "      <td>free-programming-books-zh_CN</td>\n",
       "      <td>101000</td>\n",
       "      <td>https://github.com/justjavac/free-programming-...</td>\n",
       "    </tr>\n",
       "    <tr>\n",
       "      <th>3</th>\n",
       "      <td>Genymobile</td>\n",
       "      <td>scrcpy</td>\n",
       "      <td>79700</td>\n",
       "      <td>https://github.com/Genymobile/scrcpy</td>\n",
       "    </tr>\n",
       "    <tr>\n",
       "      <th>4</th>\n",
       "      <td>Hack-with-Github</td>\n",
       "      <td>Awesome-Hacking</td>\n",
       "      <td>62800</td>\n",
       "      <td>https://github.com/Hack-with-Github/Awesome-Ha...</td>\n",
       "    </tr>\n",
       "    <tr>\n",
       "      <th>5</th>\n",
       "      <td>google</td>\n",
       "      <td>material-design-icons</td>\n",
       "      <td>47800</td>\n",
       "      <td>https://github.com/google/material-design-icons</td>\n",
       "    </tr>\n",
       "    <tr>\n",
       "      <th>6</th>\n",
       "      <td>Solido</td>\n",
       "      <td>awesome-flutter</td>\n",
       "      <td>46000</td>\n",
       "      <td>https://github.com/Solido/awesome-flutter</td>\n",
       "    </tr>\n",
       "    <tr>\n",
       "      <th>7</th>\n",
       "      <td>wasabeef</td>\n",
       "      <td>awesome-android-ui</td>\n",
       "      <td>45800</td>\n",
       "      <td>https://github.com/wasabeef/awesome-android-ui</td>\n",
       "    </tr>\n",
       "    <tr>\n",
       "      <th>8</th>\n",
       "      <td>square</td>\n",
       "      <td>okhttp</td>\n",
       "      <td>43700</td>\n",
       "      <td>https://github.com/square/okhttp</td>\n",
       "    </tr>\n",
       "    <tr>\n",
       "      <th>9</th>\n",
       "      <td>android</td>\n",
       "      <td>architecture-samples</td>\n",
       "      <td>42400</td>\n",
       "      <td>https://github.com/android/architecture-samples</td>\n",
       "    </tr>\n",
       "    <tr>\n",
       "      <th>10</th>\n",
       "      <td>square</td>\n",
       "      <td>retrofit</td>\n",
       "      <td>41300</td>\n",
       "      <td>https://github.com/square/retrofit</td>\n",
       "    </tr>\n",
       "    <tr>\n",
       "      <th>11</th>\n",
       "      <td>dcloudio</td>\n",
       "      <td>uni-app</td>\n",
       "      <td>37900</td>\n",
       "      <td>https://github.com/dcloudio/uni-app</td>\n",
       "    </tr>\n",
       "    <tr>\n",
       "      <th>12</th>\n",
       "      <td>fastlane</td>\n",
       "      <td>fastlane</td>\n",
       "      <td>36800</td>\n",
       "      <td>https://github.com/fastlane/fastlane</td>\n",
       "    </tr>\n",
       "    <tr>\n",
       "      <th>13</th>\n",
       "      <td>PhilJay</td>\n",
       "      <td>MPAndroidChart</td>\n",
       "      <td>36300</td>\n",
       "      <td>https://github.com/PhilJay/MPAndroidChart</td>\n",
       "    </tr>\n",
       "    <tr>\n",
       "      <th>14</th>\n",
       "      <td>laurent22</td>\n",
       "      <td>joplin</td>\n",
       "      <td>35000</td>\n",
       "      <td>https://github.com/laurent22/joplin</td>\n",
       "    </tr>\n",
       "    <tr>\n",
       "      <th>15</th>\n",
       "      <td>skylot</td>\n",
       "      <td>jadx</td>\n",
       "      <td>33800</td>\n",
       "      <td>https://github.com/skylot/jadx</td>\n",
       "    </tr>\n",
       "    <tr>\n",
       "      <th>16</th>\n",
       "      <td>airbnb</td>\n",
       "      <td>lottie-android</td>\n",
       "      <td>33700</td>\n",
       "      <td>https://github.com/airbnb/lottie-android</td>\n",
       "    </tr>\n",
       "    <tr>\n",
       "      <th>17</th>\n",
       "      <td>shadowsocks</td>\n",
       "      <td>shadowsocks-android</td>\n",
       "      <td>33500</td>\n",
       "      <td>https://github.com/shadowsocks/shadowsocks-and...</td>\n",
       "    </tr>\n",
       "    <tr>\n",
       "      <th>18</th>\n",
       "      <td>bumptech</td>\n",
       "      <td>glide</td>\n",
       "      <td>33500</td>\n",
       "      <td>https://github.com/bumptech/glide</td>\n",
       "    </tr>\n",
       "    <tr>\n",
       "      <th>19</th>\n",
       "      <td>xitu</td>\n",
       "      <td>gold-miner</td>\n",
       "      <td>32100</td>\n",
       "      <td>https://github.com/xitu/gold-miner</td>\n",
       "    </tr>\n",
       "  </tbody>\n",
       "</table>\n",
       "</div>"
      ],
      "text/plain": [
       "            username                     repo_name   stars  \\\n",
       "0            flutter                       flutter  151000   \n",
       "1           facebook                  react-native  108000   \n",
       "2          justjavac  free-programming-books-zh_CN  101000   \n",
       "3         Genymobile                        scrcpy   79700   \n",
       "4   Hack-with-Github               Awesome-Hacking   62800   \n",
       "5             google         material-design-icons   47800   \n",
       "6             Solido               awesome-flutter   46000   \n",
       "7           wasabeef            awesome-android-ui   45800   \n",
       "8             square                        okhttp   43700   \n",
       "9            android          architecture-samples   42400   \n",
       "10            square                      retrofit   41300   \n",
       "11          dcloudio                       uni-app   37900   \n",
       "12          fastlane                      fastlane   36800   \n",
       "13           PhilJay                MPAndroidChart   36300   \n",
       "14         laurent22                        joplin   35000   \n",
       "15            skylot                          jadx   33800   \n",
       "16            airbnb                lottie-android   33700   \n",
       "17       shadowsocks           shadowsocks-android   33500   \n",
       "18          bumptech                         glide   33500   \n",
       "19              xitu                    gold-miner   32100   \n",
       "\n",
       "                                             repo_url  \n",
       "0                  https://github.com/flutter/flutter  \n",
       "1            https://github.com/facebook/react-native  \n",
       "2   https://github.com/justjavac/free-programming-...  \n",
       "3                https://github.com/Genymobile/scrcpy  \n",
       "4   https://github.com/Hack-with-Github/Awesome-Ha...  \n",
       "5     https://github.com/google/material-design-icons  \n",
       "6           https://github.com/Solido/awesome-flutter  \n",
       "7      https://github.com/wasabeef/awesome-android-ui  \n",
       "8                    https://github.com/square/okhttp  \n",
       "9     https://github.com/android/architecture-samples  \n",
       "10                 https://github.com/square/retrofit  \n",
       "11                https://github.com/dcloudio/uni-app  \n",
       "12               https://github.com/fastlane/fastlane  \n",
       "13          https://github.com/PhilJay/MPAndroidChart  \n",
       "14                https://github.com/laurent22/joplin  \n",
       "15                     https://github.com/skylot/jadx  \n",
       "16           https://github.com/airbnb/lottie-android  \n",
       "17  https://github.com/shadowsocks/shadowsocks-and...  \n",
       "18                  https://github.com/bumptech/glide  \n",
       "19                 https://github.com/xitu/gold-miner  "
      ]
     },
     "execution_count": 55,
     "metadata": {},
     "output_type": "execute_result"
    }
   ],
   "source": [
    "get_topic_repos(get_topic_page( topic_urls[4]))"
   ]
  },
  {
   "cell_type": "markdown",
   "id": "fafae53a",
   "metadata": {},
   "source": [
    "## Write a Single Function to:"
   ]
  },
  {
   "cell_type": "markdown",
   "id": "9f6341ee",
   "metadata": {},
   "source": [
    "\n",
    "1. Get the list of topics from the topic page\n",
    "2. Get the list of top repos from individual topic page\n",
    "3. For each topic, Create a CSV of the top repos for the topic"
   ]
  },
  {
   "cell_type": "code",
   "execution_count": 56,
   "id": "5cce7d32",
   "metadata": {},
   "outputs": [],
   "source": [
    "def get_topic_titles(doc):\n",
    "    selection_class = 'f3 lh-condensed mb-0 mt-1 Link--primary'\n",
    "    topic_title_tags = doc.find_all('p', {'class' : selection_class})\n",
    "    topic_titles = []\n",
    "    for tag in topic_title_tags:\n",
    "        topic_titles.append(tag.text)\n",
    "    return topic_titles\n",
    "\n",
    "def get_topic_descs(doc):\n",
    "    desc_selector = 'f5 color-fg-muted mb-0 mt-1'\n",
    "    topic_desc_tags = doc.find_all('p', {'class' : desc_selector})\n",
    "    topic_descs = []\n",
    "    for tag in topic_desc_tags:\n",
    "        topic_descs.append(tag.text.strip())\n",
    "    return topic_descs\n",
    "\n",
    "def get_topic_urls(doc):\n",
    "    topic_link_tags = doc.find_all('a', {'class' : link_selector})\n",
    "    topic_urls = []\n",
    "    base_url = 'https://github.com'\n",
    "    for tag in topic_link_tags:\n",
    "        topic_urls.append(base_url + tag['href'])\n",
    "    return topic_urls\n",
    "\n",
    "    \n",
    "def scrape_topics():\n",
    "    topics_url = 'https://github.com/topics'\n",
    "    reponse = requests.get(topics_url)\n",
    "    if response.status_code != 200:\n",
    "        raise Exception('Failed to load page {}'.format(topic_url))\n",
    "    topics_dict ={\n",
    "        'title' : get_topic_titles(doc),\n",
    "        'description': get_topic_descs(doc),\n",
    "        'url': get_topic_urls(doc)\n",
    "    }\n",
    "    return pd.DataFrame(topics_dict)"
   ]
  },
  {
   "cell_type": "code",
   "execution_count": 57,
   "id": "230fbfe9",
   "metadata": {},
   "outputs": [],
   "source": [
    "def scrape_topic_repo():\n",
    "    print(\"scrapping list of topics:\")\n",
    "    topic_df = scrape_topics()\n",
    "    for index, row in topic_df.iterrows():\n",
    "        print('Scrapping top repositories for \"{}\"'.format(row['title']))\n",
    "        scrape_topic(row['url'],row['title'])\n",
    "    "
   ]
  },
  {
   "cell_type": "code",
   "execution_count": 58,
   "id": "8e854fde",
   "metadata": {},
   "outputs": [
    {
     "name": "stdout",
     "output_type": "stream",
     "text": [
      "scrapping list of topics:\n",
      "Scrapping top repositories for \"3D\"\n",
      "The file 3D.csv already exists . skipping...\n",
      "Scrapping top repositories for \"Ajax\"\n",
      "The file Ajax.csv already exists . skipping...\n",
      "Scrapping top repositories for \"Algorithm\"\n",
      "The file Algorithm.csv already exists . skipping...\n",
      "Scrapping top repositories for \"Amp\"\n",
      "The file Amp.csv already exists . skipping...\n",
      "Scrapping top repositories for \"Android\"\n",
      "The file Android.csv already exists . skipping...\n",
      "Scrapping top repositories for \"Angular\"\n",
      "The file Angular.csv already exists . skipping...\n",
      "Scrapping top repositories for \"Ansible\"\n",
      "The file Ansible.csv already exists . skipping...\n",
      "Scrapping top repositories for \"API\"\n",
      "The file API.csv already exists . skipping...\n",
      "Scrapping top repositories for \"Arduino\"\n",
      "The file Arduino.csv already exists . skipping...\n",
      "Scrapping top repositories for \"ASP.NET\"\n",
      "The file ASP.NET.csv already exists . skipping...\n",
      "Scrapping top repositories for \"Atom\"\n",
      "The file Atom.csv already exists . skipping...\n",
      "Scrapping top repositories for \"Awesome Lists\"\n",
      "The file Awesome Lists.csv already exists . skipping...\n",
      "Scrapping top repositories for \"Amazon Web Services\"\n",
      "The file Amazon Web Services.csv already exists . skipping...\n",
      "Scrapping top repositories for \"Azure\"\n",
      "The file Azure.csv already exists . skipping...\n",
      "Scrapping top repositories for \"Babel\"\n",
      "The file Babel.csv already exists . skipping...\n",
      "Scrapping top repositories for \"Bash\"\n",
      "The file Bash.csv already exists . skipping...\n",
      "Scrapping top repositories for \"Bitcoin\"\n",
      "The file Bitcoin.csv already exists . skipping...\n",
      "Scrapping top repositories for \"Bootstrap\"\n",
      "The file Bootstrap.csv already exists . skipping...\n",
      "Scrapping top repositories for \"Bot\"\n",
      "The file Bot.csv already exists . skipping...\n",
      "Scrapping top repositories for \"C\"\n",
      "The file C.csv already exists . skipping...\n",
      "Scrapping top repositories for \"Chrome\"\n",
      "The file Chrome.csv already exists . skipping...\n",
      "Scrapping top repositories for \"Chrome extension\"\n",
      "The file Chrome extension.csv already exists . skipping...\n",
      "Scrapping top repositories for \"Command line interface\"\n",
      "The file Command line interface.csv already exists . skipping...\n",
      "Scrapping top repositories for \"Clojure\"\n",
      "The file Clojure.csv already exists . skipping...\n",
      "Scrapping top repositories for \"Code quality\"\n",
      "The file Code quality.csv already exists . skipping...\n",
      "Scrapping top repositories for \"Code review\"\n",
      "The file Code review.csv already exists . skipping...\n",
      "Scrapping top repositories for \"Compiler\"\n",
      "The file Compiler.csv already exists . skipping...\n",
      "Scrapping top repositories for \"Continuous integration\"\n",
      "The file Continuous integration.csv already exists . skipping...\n",
      "Scrapping top repositories for \"COVID-19\"\n",
      "The file COVID-19.csv already exists . skipping...\n",
      "Scrapping top repositories for \"C++\"\n",
      "The file C++.csv already exists . skipping...\n"
     ]
    }
   ],
   "source": [
    "scrape_topic_repo()"
   ]
  },
  {
   "cell_type": "code",
   "execution_count": null,
   "id": "85c96524",
   "metadata": {},
   "outputs": [],
   "source": []
  }
 ],
 "metadata": {
  "kernelspec": {
   "display_name": "Python 3 (ipykernel)",
   "language": "python",
   "name": "python3"
  },
  "language_info": {
   "codemirror_mode": {
    "name": "ipython",
    "version": 3
   },
   "file_extension": ".py",
   "mimetype": "text/x-python",
   "name": "python",
   "nbconvert_exporter": "python",
   "pygments_lexer": "ipython3",
   "version": "3.9.12"
  }
 },
 "nbformat": 4,
 "nbformat_minor": 5
}
